{
 "cells": [
  {
   "cell_type": "markdown",
   "id": "f79b864f",
   "metadata": {},
   "source": [
    "<h1 style=\"text-align: center;\">Projet_N°7_THOMPSON&TORT_MARTINEZ</h1>\n",
    "<h2 style=\"text-align: center;\">Étude d'une centrale à cycle combiné à gaz</h2>\n",
    "\n",
    "<div style=\"text-align: center;\">\n",
    "  <img src=\"centrale.jpg\" width=\"900\"/>\n",
    "  <p><em>Centrale thermique de Bouchain, EDF</em></p>\n",
    "</div>\n"
   ]
  },
  {
   "cell_type": "markdown",
   "id": "6d91cffc",
   "metadata": {},
   "source": [
    "\n",
    "<h3 style=\"text-align: center;\">Étude de la turbine à gaz</h3>\n",
    "<div style=\"text-align: center;\">\n",
    "  <img src=\"cycle.png\" width=\"600\"/>\n",
    "</div>\n",
    "\n"
   ]
  },
  {
   "cell_type": "markdown",
   "id": "b4eec563",
   "metadata": {},
   "source": [
    "### 2.1/\n",
    "On commence par exprimer la puissance absorbée par le compresseur et la puissance délivrée par la turbine.\n",
    "$$\n",
    "\\dot{W}_{\\text{tot}} = \\dot{W}_{\\text{turbine}} - \\dot{W}_{\\text{compresseur}}\n",
    "$$\n",
    "\n",
    "D'après le premier principe industriel entre 1-2 et entre 2-3:\n",
    "$$\n",
    "\\dot{W}_c = \\dot{m}_1 \\, (h_2 - h_1)\n",
    "$$\n",
    "\n",
    "$$\n",
    "\\dot{W}_t = \\dot{m}_3 \\, (h_4 - h_3)\n",
    "$$\n",
    "\n",
    "donc:\n",
    "$$\n",
    "\\dot{W}_c = \\dot{m}_1 \\, C_{p,a} \\, (T_2 - T_1)\n",
    "$$\n",
    "$$\n",
    "\\dot{W}_t = \\dot{m}_3 \\, C_{p,f} \\, (T_4 - T_3)\n",
    "$$\n",
    "\n"
   ]
  },
  {
   "cell_type": "markdown",
   "id": "6ad9f96f",
   "metadata": {},
   "source": [
    "On se place dans le cas réversible. On peut donc utiliser les lois de Laplace (Gaz parfait + adiabatique réversible)\n",
    "$$\n",
    "\\frac{T_2}{T_1} = \\left( \\frac{P_2}{P_1} \\right)^{\\frac{\\gamma - 1}{\\gamma}}\n",
    "$$\n",
    "\n",
    "donc: \n",
    "$$\n",
    "\\dot{W}_{c,is} = \\dot{m}_1 \\, C_{p,a} \\, T_1 \\cdot \\left( r_c^{k_a} - 1 \\right)\n",
    "$$\n",
    "\n",
    "$$\n",
    "\\dot{W}_{t,is} = \\dot{m}_3 \\, C_{p,f} \\, T_3 \\cdot \\left(1 - r_c^{- \\frac{1}{k_f}} \\right)\n",
    "$$\n",
    "\n",
    "Dans le cas réel, en prenant en compte le rendement isentropique:\n",
    "\n",
    "$$\n",
    "\\dot{W}_{c,is} = \\frac{\\dot{m}_1 \\, C_{p,a} \\, T_1 }{\\eta_c} \\cdot \\left( r_c^{k_a} - 1 \\right)\n",
    "$$\n",
    "\n",
    "$$\n",
    "\\dot{W}_{t,is} = \\dot{m}_3 \\, C_{p,f} \\, T_3 \\eta_t \\cdot \\left(1 - r_c^{- \\frac{1}{k_f}} \\right)\n",
    "$$\n",
    "La puisance totale vaut donc:\n",
    "\n",
    "$$\n",
    "\\dot{W}_{\\text{tot}} = \\dot{m}_3 \\, C_{p,f} \\, T_3 \\eta_t \\cdot \\left(1 - r_c^{- \\frac{1}{k_f}} \\right) - \\frac{\\dot{m}_1 \\, C_{p,a} \\, T_1 }{\\eta_c} \\cdot \\left( r_c^{k_a} - 1 \\right)\n",
    "$$"
   ]
  }
 ],
 "metadata": {
  "language_info": {
   "name": "python"
  }
 },
 "nbformat": 4,
 "nbformat_minor": 5
}
