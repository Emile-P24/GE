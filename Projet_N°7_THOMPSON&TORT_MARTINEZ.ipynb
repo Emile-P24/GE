{
 "cells": [
  {
   "cell_type": "markdown",
   "id": "f79b864f",
   "metadata": {},
   "source": [
    "<h1 style=\"text-align: center;\">Projet_N°7_THOMPSON&TORT_MARTINEZ</h1>\n",
    "<h2 style=\"text-align: center;\">Étude d'une centrale à cycle combiné à gaz</h2>\n",
    "\n",
    "<div style=\"text-align: center;\">\n",
    "  <img src=\"centrale.jpg\" width=\"900\"/>\n",
    "  <p><em>Centrale thermique de Bouchain, EDF</em></p>\n",
    "</div>\n"
   ]
  },
  {
   "cell_type": "markdown",
   "id": "6d91cffc",
   "metadata": {},
   "source": [
    "\n",
    "<h3 style=\"text-align: center;\">Étude de la turbine à gaz</h3>\n",
    "<div style=\"text-align: center;\">\n",
    "  <img src=\"cycle.png\" width=\"600\"/>\n",
    "</div>\n",
    "\n"
   ]
  },
  {
   "cell_type": "markdown",
   "id": "b4eec563",
   "metadata": {},
   "source": [
    "### 2.1/\n",
    "On commence par exprimer la puissance absorbée par le compresseur et la puissance délivrée par la turbine.\n",
    "$$\n",
    "\\dot{W}_{\\text{tot}} = \\dot{W}_{\\text{turbine}} - \\dot{W}_{\\text{compresseur}}\n",
    "$$\n",
    "\n",
    "D'après le premier principe industriel entre 1-2 et entre 2-3:\n",
    "$$\n",
    "\\dot{W}_c = \\dot{m}_1 \\, (h_2 - h_1)\n",
    "$$\n",
    "\n",
    "$$\n",
    "\\dot{W}_t = \\dot{m}_3 \\, (h_4 - h_3)\n",
    "$$\n",
    "\n",
    "donc:\n",
    "$$\n",
    "\\dot{W}_c = \\dot{m}_1 \\, C_{p,a} \\, (T_2 - T_1)\n",
    "$$\n",
    "$$\n",
    "\\dot{W}_t = \\dot{m}_3 \\, C_{p,f} \\, (T_4 - T_3)\n",
    "$$\n",
    "\n"
   ]
  },
  {
   "cell_type": "markdown",
   "id": "6ad9f96f",
   "metadata": {},
   "source": [
    "On se place dans le cas réversible. On peut donc utiliser les lois de Laplace (Gaz parfait + adiabatique réversible)\n",
    "$$\n",
    "\\frac{T_2}{T_1} = \\left( \\frac{P_2}{P_1} \\right)^{\\frac{\\gamma - 1}{\\gamma}}\n",
    "$$\n",
    "\n",
    "On a $ P_3 = P_2\\ et\\ P_4 = P_{atm} = P_1 $ donc on remplace $ \\frac{P_2}{P_1}\\ et\\ \\frac{P_4}{P_3}\\ par\\ r_c$ \n",
    "$$\n",
    "\\dot{W}_{c,is} = \\dot{m}_1 \\, C_{p,a} \\, T_1 \\cdot \\left( r_c^{k_a} - 1 \\right)\n",
    "$$\n",
    "\n",
    "$$\n",
    "\\dot{W}_{t,is} = \\dot{m}_3 \\, C_{p,f} \\, T_3 \\cdot \\left(1 - r_c^{- \\frac{1}{k_f}} \\right)\n",
    "$$\n",
    "\n",
    "Dans le cas réel, en prenant en compte le rendement isentropique:\n",
    "\n",
    "$$\n",
    "\\dot{W}_{c,is} = \\frac{\\dot{m}_1 \\, C_{p,a} \\, T_1 }{\\eta_c} \\cdot \\left( r_c^{k_a} - 1 \\right)\n",
    "$$\n",
    "\n",
    "$$\n",
    "\\dot{W}_{t,is} = \\dot{m}_3 \\, C_{p,f} \\, T_3 \\eta_t \\cdot \\left(1 - r_c^{- \\frac{1}{k_f}} \\right)\n",
    "$$\n",
    "La puisance totale vaut donc:\n",
    "\n",
    "$$\n",
    "\\dot{W}_{\\text{tot}} = \\dot{m}_3 \\, C_{p,f} \\, T_3 \\eta_t \\cdot \\left(1 - r_c^{- \\frac{1}{k_f}} \\right) - \\frac{\\dot{m}_1 \\, C_{p,a} \\, T_1 }{\\eta_c} \\cdot \\left( r_c^{k_a} - 1 \\right)\n",
    "$$"
   ]
  },
  {
   "cell_type": "markdown",
   "id": "72997505",
   "metadata": {},
   "source": [
    "Pour trouver la condition d'optimalité sur la puissance, on dérive l'expression par rapport à $ r_c $ et on l'annule/\n",
    "\n",
    "$$\n",
    "\\frac{d\\dot{W}_{\\text{tot}}}{d r_c} =\\dot{m}_3 \\, C_{p,f} \\, T_3 \\eta_t \\cdot \\left( k_f \\, r_c^{-k_f - 1} \\right) - \\frac{\\dot{m}_1 \\, C_{p,a} \\, T_1 }{\\eta_c} \\cdot\\left( k_a \\, r_c^{k_a - 1} \\right) = 0\n",
    "\n",
    "$$\n"
   ]
  },
  {
   "cell_type": "markdown",
   "id": "38549ca8",
   "metadata": {},
   "source": [
    "Après résolution on obtient:\n",
    "$$\n",
    "r_c^{k_a + k_f} =\n",
    "\\frac{ \\dot{m}_3 \\, C_{p,f} \\, T_3 \\cdot \\eta_T \\cdot k_f }{ \\dot{m}_1 \\, C_{p,a} \\, T_1 \\cdot \\frac{k_a}{\\eta_c} }\n",
    "$$\n",
    "\n",
    "enfin:\n",
    "$$\n",
    "r_c = \n",
    "\\left[\n",
    "\\eta_c \\, \\eta_T \\, \\frac{T_3}{T_1} \\,\\frac{ ( \\dot{m} \\, C_p )_3\n",
    "}{\n",
    "( \\dot{m} \\, C_p )_1 \\cdot\n",
    "}\n",
    "\\frac{k_f}{k_a}\n",
    "\\right]^{\\frac{1}{k_a + k_f}}\n",
    "$$"
   ]
  },
  {
   "cell_type": "markdown",
   "id": "e6276027",
   "metadata": {},
   "source": [
    "On réalise le bilan dans la chambre de combustion (2->3):\n",
    "$$\n",
    "\\dot{m}_3 h_3 = \\dot{m}_1 h_2 + \\dot{m}_{gn} \\cdot \\text{PCI}\n",
    "$$\n",
    "soit \n",
    "$$\n",
    "\\dot{m}_3 = \\frac{\\dot{m}_1 h_2 + \\dot{m}_{gn} \\cdot \\text{PCI}}{h_3}\n",
    "$$\n",
    "\n",
    "$T_3$ est fixé donc $h_3$ l'est aussi, et les débits d'air et de gaz naturel sont fixés, donc $h_3$ dépend uniquement de $h_2$\n",
    "\n",
    "or\n",
    "$$\n",
    "h_2 = C_{p,a} \\, T_2\n",
    "$$\n",
    "donc \n",
    "$$\n",
    "h_2 = C_{p,a} \\, T_1 \\left( 1 + \\eta_c \\, r_c^{\\frac{k_a}{k_a} - 1} \\right)\n",
    "$$\n",
    "Ainsi $\\dot{m}_3$ dépend de $r_c$\n",
    "\n",
    "\n"
   ]
  },
  {
   "cell_type": "code",
   "execution_count": null,
   "id": "5dfd5ff7",
   "metadata": {},
   "outputs": [
    {
     "ename": "SyntaxError",
     "evalue": "invalid syntax (1654013477.py, line 14)",
     "output_type": "error",
     "traceback": [
      "\u001b[1;36m  Cell \u001b[1;32mIn[1], line 14\u001b[1;36m\u001b[0m\n\u001b[1;33m    m3 =\u001b[0m\n\u001b[1;37m         ^\u001b[0m\n\u001b[1;31mSyntaxError\u001b[0m\u001b[1;31m:\u001b[0m invalid syntax\n"
     ]
    }
   ],
   "source": [
    "rc = 18\n",
    "gamma_a = 1.38\n",
    "gamma_f = 1.31\n",
    "cpa = 2256\n",
    "cpf=1213\n",
    "t1 = 15-273\n",
    "t3 = 1420-273\n",
    "eta = 0.9\n",
    "m1 = 800\n",
    "ka = (gamma_a-1)/gamma_a\n",
    "kf = (gamma_f-1)/gamma_f\n",
    "\n",
    "for i in range(100):\n",
    "    x=\n",
    "    m3 = m1(1+x)\n",
    "    rc = eta**2 *((t3*m3*cpf*kf)(t1*m1*cpa*ka))**(1/(ka+kf))\n",
    "    \n",
    "print(rc)"
   ]
  }
 ],
 "metadata": {
  "kernelspec": {
   "display_name": "base",
   "language": "python",
   "name": "python3"
  },
  "language_info": {
   "codemirror_mode": {
    "name": "ipython",
    "version": 3
   },
   "file_extension": ".py",
   "mimetype": "text/x-python",
   "name": "python",
   "nbconvert_exporter": "python",
   "pygments_lexer": "ipython3",
   "version": "3.12.4"
  }
 },
 "nbformat": 4,
 "nbformat_minor": 5
}
