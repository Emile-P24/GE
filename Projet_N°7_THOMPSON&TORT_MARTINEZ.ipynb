{
 "cells": [
  {
   "cell_type": "markdown",
   "id": "f79b864f",
   "metadata": {},
   "source": [
    "<h1 style=\"text-align: center;\">Projet_N°7_THOMPSON&TORT_MARTINEZ</h1>\n",
    "<h2 style=\"text-align: center;\">Étude d'une centrale à cycle combiné à gaz</h2>\n",
    "\n",
    "<div style=\"text-align: center;\">\n",
    "  <img src=\"centrale.jpg\" width=\"900\"/>\n",
    "  <p><em>Centrale thermique de Bouchain, EDF</em></p>\n",
    "</div>\n"
   ]
  },
  {
   "cell_type": "markdown",
   "id": "6d91cffc",
   "metadata": {},
   "source": [
    "\n",
    "<h3 style=\"text-align: center;\">Étude de la turbine à gaz</h3>\n",
    "<div style=\"text-align: center;\">\n",
    "  <img src=\"cycle.png\" width=\"600\"/>\n",
    "</div>\n",
    "\n"
   ]
  },
  {
   "cell_type": "markdown",
   "id": "b4eec563",
   "metadata": {},
   "source": [
    "### 2.1/\n",
    "On commence par exprimer la puissance absorbée par le compresseur et la puissance délivrée par la turbine.\n",
    "$$\n",
    "\\dot{W}_{\\text{tot}} = \\dot{W}_{\\text{turbine}} - \\dot{W}_{\\text{compresseur}}\n",
    "$$\n",
    "\n",
    "D'après le premier principe industriel entre 1-2 et entre 2-3:\n",
    "$$\n",
    "\\dot{W}_c = \\dot{m}_1 \\, (h_2 - h_1)\n",
    "$$\n",
    "\n",
    "$$\n",
    "\\dot{W}_t = \\dot{m}_3 \\, (h_4 - h_3)\n",
    "$$\n",
    "\n",
    "donc:\n",
    "$$\n",
    "\\dot{W}_c = \\dot{m}_1 \\, C_{p,a} \\, (T_2 - T_1)\n",
    "$$\n",
    "$$\n",
    "\\dot{W}_t = \\dot{m}_3 \\, C_{p,f} \\, (T_4 - T_3)\n",
    "$$\n",
    "\n"
   ]
  },
  {
   "cell_type": "markdown",
   "id": "6ad9f96f",
   "metadata": {},
   "source": [
    "On se place dans le cas réversible. On peut donc utiliser les lois de Laplace (Gaz parfait + adiabatique réversible)\n",
    "$$\n",
    "\\frac{T_2}{T_1} = \\left( \\frac{P_2}{P_1} \\right)^{\\frac{\\gamma - 1}{\\gamma}}\n",
    "$$\n",
    "\n",
    "On a $ P_3 = P_2\\ et\\ P_4 = P_{atm} = P_1 $ donc on remplace $ \\frac{P_2}{P_1}\\ et\\ \\frac{P_4}{P_3}\\ par\\ r_c$ \n",
    "$$\n",
    "\\dot{W}_{c,is} = \\dot{m}_1 \\, C_{p,a} \\, T_1 \\cdot \\left( r_c^{k_a} - 1 \\right)\n",
    "$$\n",
    "\n",
    "$$\n",
    "\\dot{W}_{t,is} = \\dot{m}_3 \\, C_{p,f} \\, T_3 \\cdot \\left(1 - r_c^{- \\frac{1}{k_f}} \\right)\n",
    "$$\n",
    "\n",
    "Dans le cas réel, en prenant en compte le rendement isentropique:\n",
    "\n",
    "$$\n",
    "\\dot{W}_{c,is} = \\frac{\\dot{m}_1 \\, C_{p,a} \\, T_1 }{\\eta_c} \\cdot \\left( r_c^{k_a} - 1 \\right)\n",
    "$$\n",
    "\n",
    "$$\n",
    "\\dot{W}_{t,is} = \\dot{m}_3 \\, C_{p,f} \\, T_3 \\eta_t \\cdot \\left(1 - r_c^{- \\frac{1}{k_f}} \\right)\n",
    "$$\n",
    "La puisance totale vaut donc:\n",
    "\n",
    "$$\n",
    "\\dot{W}_{\\text{tot}} = \\dot{m}_3 \\, C_{p,f} \\, T_3 \\eta_t \\cdot \\left(1 - r_c^{- \\frac{1}{k_f}} \\right) - \\frac{\\dot{m}_1 \\, C_{p,a} \\, T_1 }{\\eta_c} \\cdot \\left( r_c^{k_a} - 1 \\right)\n",
    "$$"
   ]
  },
  {
   "cell_type": "markdown",
   "id": "72997505",
   "metadata": {},
   "source": [
    "Pour trouver la condition d'optimalité sur la puissance, on dérive l'expression par rapport à $ r_c $ et on l'annule/\n",
    "\n",
    "$$\n",
    "\\frac{d\\dot{W}_{\\text{tot}}}{d r_c} =\\dot{m}_3 \\, C_{p,f} \\, T_3 \\eta_t \\cdot \\left( k_f \\, r_c^{-k_f - 1} \\right) - \\frac{\\dot{m}_1 \\, C_{p,a} \\, T_1 }{\\eta_c} \\cdot\\left( k_a \\, r_c^{k_a - 1} \\right) = 0\n",
    "\n",
    "$$\n"
   ]
  },
  {
   "cell_type": "markdown",
   "id": "38549ca8",
   "metadata": {},
   "source": [
    "Après résolution on obtient:\n",
    "$$\n",
    "r_c^{k_a + k_f} =\n",
    "\\frac{ \\dot{m}_3 \\, C_{p,f} \\, T_3 \\cdot \\eta_T \\cdot k_f }{ \\dot{m}_1 \\, C_{p,a} \\, T_1 \\cdot \\frac{k_a}{\\eta_c} }\n",
    "$$\n",
    "\n",
    "enfin:\n",
    "$$\n",
    "r_c = \n",
    "\\left[\n",
    "\\eta_c \\, \\eta_T \\, \\frac{T_3}{T_1} \\,\\frac{ ( \\dot{m} \\, C_p )_3\n",
    "}{\n",
    "( \\dot{m} \\, C_p )_1 \\cdot\n",
    "}\n",
    "\\frac{k_f}{k_a}\n",
    "\\right]^{\\frac{1}{k_a + k_f}}\n",
    "$$"
   ]
  },
  {
   "cell_type": "markdown",
   "id": "e6276027",
   "metadata": {},
   "source": [
    "On réalise le bilan dans la chambre de combustion (2->3):\n",
    "$$\n",
    "(\\dot{m}_{3} - \\dot{m}_{1}) \\cdot \\text{PCI} = \\dot{m}_3 \\cdot h_3 - \\dot{m}_1 \\cdot h_2 - (\\dot{m}_{3} - \\dot{m}_{1}) \\cdot h_{17}\n",
    "$$\n",
    "car $\\dot{m}_1 = \\dot{m}_2$ et $ \\dot{m}_{17} = \\dot{m}_{3} - \\dot{m}_{1}$\n",
    "\n",
    "soit \n",
    "$$\n",
    "\\dot{m}_3 = \\frac{\\dot{m}_1 (C_{p,a}T_2 - C_{p,g}T_{17} - \\text{PCI}) }{C_{p,f}T_3 - C_{p,g}T_{17} - \\text{PCI})}\n",
    "$$\n",
    "\n",
    "$T_3$ et $T_{17}$ sont fixées donc $h_3$ dépend uniquement de $T_2$\n",
    "\n",
    "or \n",
    "$$\n",
    "T_2 = T_1 \\left[ 1 + \\frac{1}{\\eta_c} \\left( r_c^{k_a} - 1 \\right) \\right]\n",
    "$$\n",
    "\n",
    "Ainsi $\\dot{m}_3$ dépend de $r_c$\n",
    "\n",
    "\n"
   ]
  },
  {
   "cell_type": "markdown",
   "id": "69cf9346",
   "metadata": {},
   "source": [
    "### 2.2/\n",
    "On utilise le code python suivant pour calculer de façon itérative les valeurs de $r_c$"
   ]
  },
  {
   "cell_type": "code",
   "execution_count": 26,
   "id": "5dfd5ff7",
   "metadata": {},
   "outputs": [
    {
     "name": "stdout",
     "output_type": "stream",
     "text": [
      "27.270031749876463 820.968515082622\n"
     ]
    }
   ],
   "source": [
    "rc = 18\n",
    "gamma_a = 1.38\n",
    "gamma_f = 1.31\n",
    "cpa = 1039\n",
    "cpg = 2256\n",
    "cpf = 1213\n",
    "t1 = 15+273\n",
    "t3 = 1420+273\n",
    "t17 = 15 + 273\n",
    "eta = 0.9\n",
    "m1 = 800\n",
    "ka = (gamma_a-1)/gamma_a\n",
    "kf = (gamma_f-1)/gamma_f\n",
    "pci = 49500000\n",
    "\n",
    "for i in range(100):\n",
    "    t2 = t1*(1 + (rc**ka-1)/eta)\n",
    "    m3 = m1*(cpa*t2-cpg*t17-pci)/(cpf*t3 - cpg*t17 - pci)\n",
    "    rc = (eta**2)*((t3*m3*cpf*kf)/(t1*m1*cpa*ka))**(1/(ka+kf))\n",
    "    \n",
    "print(rc,m3)"
   ]
  },
  {
   "cell_type": "markdown",
   "id": "a1f82279",
   "metadata": {},
   "source": [
    "On obtient après 100 itérations du code ci dessus:\n",
    "\n",
    "|      | Initialisation      | i = 100         |\n",
    "|----------------|--------------|---------------|\n",
    "| $r_c$  |$ 18 $     | $27.3 $          |\n",
    "| $\\dot{m}_3$  | $822,5 \\ kg/s$    | $821,0 \\ kg/s $      |"
   ]
  },
  {
   "cell_type": "markdown",
   "id": "68c3dd6d",
   "metadata": {},
   "source": [
    "### 2.3/\n",
    "On remplit le tableau d'état et le tableau de transformation pour le TAC:\n",
    "\n",
    "$h_1 = C_{p,a}T_1 = 300 kj/kg $  \n",
    "\n",
    "$T_2 = T_1 \\left[ 1 + \\frac{1}{\\eta_c} \\left( r_c^{k_a} - 1 \\right) \\right] = 449 K \\ \\ \\ $ et $ \\ \\ \\ h_2 = C_{p,a}T_2 = 750 kj/kg $  \n",
    "\n",
    "$P_2 = P_3 = r_c P_1 = 22.8 Pa $ et $h_3 = C_{p,f}T_3= 300 kj/kg $ \n",
    "\n",
    "$T_4 =T_3 \\left[ 1 - \\eta_T ( 1 - r_c^{-k_f}) \\right] = 628 K$ et $h_4 = C_{p,f}T_4 = 3762 kj/kg $  \n",
    "\n",
    "\n",
    "$\\dot{m}_{17} = \\dot{m}_3 - \\dot{m}_1 = 21 kg/s$ et $h_{17} = C_{p,g}T_{17} = 649 kj/kg $\n"
   ]
  },
  {
   "cell_type": "markdown",
   "id": "e54ad3ad",
   "metadata": {},
   "source": [
    "| Point | Localisation          | État physique | P (bar) | T (°C) | \\( x_v \\) (-) | h (kJ/kg) |  $\\dot{m}$  (kg/s) |\n",
    "|-------|------------------------|----------------|---------|--------|---------------|------------|------------------------|\n",
    "| 1     | Admission air          | Air            | 1.0   | 15     | 1            |  300       | 800                      |\n",
    "| 2     | Sortie compresseur     | Air              | 27.3       | 449      | 1             |   750       | 800                     |\n",
    "| 3     | Admission turbine      | Air            | 27.3      | 1420       | 1             | 7077     |    821                   |\n",
    "| 4     | Sortie turbine         | Air              | 1.013      | 628      | 1             | 3762         | 821                     |\n",
    "| 17     | Injection gaz        | Air              | 1.0       | 15    | 1             | 649         | 21                    |"
   ]
  },
  {
   "cell_type": "markdown",
   "id": "8090ae88",
   "metadata": {},
   "source": [
    "Les transferts thermiques sont nuls car les parois sont calorifugées  \n",
    "\n",
    "(1 → 2)/       $ \\dot{W} = \\dot{m}_1(h_2 - h_1)$  \n",
    "\n",
    "(3 → 4)/       $ \\dot{W} = \\dot{m}_3(h_4 - h_3)$"
   ]
  },
  {
   "cell_type": "markdown",
   "id": "46704663",
   "metadata": {},
   "source": [
    "| Composant                              | $ \\sum \\dot{m} h  (MW) $ | $ \\dot{W}  (MW) $| $ \\dot{Q} (MW) $ |\n",
    "|----------------------------------------|---------------------------|--------------------|--------------------|\n",
    "| Compresseur (1 → 2)                    | 360                         | 360       | 0                  |\n",
    "| Chambre de combustion (2 et 17 → 3)    | 5197                         | 0                  | 5197 |\n",
    "| Turbine (3 → 4)                        | -2731                        |  -2731        | 0                  |\n"
   ]
  },
  {
   "cell_type": "markdown",
   "id": "dfd8597f",
   "metadata": {},
   "source": [
    "### 2.3/  \n",
    "La puissance totale vaut:  \n",
    "$$\n",
    "\\dot{W}_{\\text{tot}} = \\dot{m}_3 \\, C_{p,f} \\, T_3 \\eta_t \\cdot \\left(1 - r_c^{- \\frac{1}{k_f}} \\right) - \\frac{\\dot{m}_1 \\, C_{p,a} \\, T_1 }{\\eta_c} \\cdot \\left( r_c^{k_a} - 1 \\right)\n",
    "$$\n",
    "soit \n",
    "$$\n",
    "\\dot{W}_{\\text{tot}} = 2371 MW\n",
    "$$\n",
    "\n",
    "On définit:  \n",
    "$$\\eta_{TAC} = \\frac{-\\dot{W}_T}{\\dot{W}_c + \\dot{m}_{17} \\text{PCI}}$$\n",
    "\n",
    "et on obtient:  \n",
    "$$ \\eta_{TAC}= 0.49$$"
   ]
  },
  {
   "cell_type": "markdown",
   "id": "32bfe3d6",
   "metadata": {},
   "source": [
    "<h3 style=\"text-align: center;\">5. Dimensionnement de la chaudière de récupération (HRSG)</h3>"
   ]
  },
  {
   "cell_type": "markdown",
   "id": "995076b6",
   "metadata": {},
   "source": [
    "### 5.1/  \n",
    "Le coefficient d’échange global de chaque échangeur est défini suivant :\n",
    "$$\n",
    "\\frac{1}{K} = \\frac{1}{h_o} + \\frac{D_o \\cdot \\ln \\left( \\frac{D_o}{D_i} \\right)}{2 \\lambda_{\\text{acier}}} + \\frac{D_o}{h_i \\cdot D_i}\n",
    "$$\n"
   ]
  },
  {
   "cell_type": "markdown",
   "id": "f8ea18c5",
   "metadata": {},
   "source": [
    "On commence par calculer le coefficient interne $h_i$:  \n",
    "\n",
    "$$ \\frac{h_i \\cdot D_i}{\\lambda_t} = \\frac{0.125 \\cdot f(Re - 1000) \\cdot {Pr}_t}{1+4.49\\sqrt{f} \\cdot ({Pr}_t^{2/3} -1)}"
   ]
  },
  {
   "cell_type": "markdown",
   "id": "31d6d042",
   "metadata": {},
   "source": [
    "Avec:\n",
    "$$\n",
    "Re = \\frac{4 \\dot{m}_t}{\\pi N_{\\text{tubes}} D_i \\mu_t}\n",
    "$$\n",
    "$$\n",
    "f = \\left[-1.8 \\cdot \\ln\\left(\\frac{6.9}{Re}\\right)\\right]^{-2}\n",
    "$$\n"
   ]
  }
 ],
 "metadata": {
  "kernelspec": {
   "display_name": "base",
   "language": "python",
   "name": "python3"
  },
  "language_info": {
   "codemirror_mode": {
    "name": "ipython",
    "version": 3
   },
   "file_extension": ".py",
   "mimetype": "text/x-python",
   "name": "python",
   "nbconvert_exporter": "python",
   "pygments_lexer": "ipython3",
   "version": "3.12.4"
  }
 },
 "nbformat": 4,
 "nbformat_minor": 5
}
