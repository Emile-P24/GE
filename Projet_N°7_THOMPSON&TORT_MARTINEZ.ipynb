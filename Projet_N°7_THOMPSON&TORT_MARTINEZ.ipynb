{
 "cells": [
  {
   "cell_type": "markdown",
   "id": "f79b864f",
   "metadata": {},
   "source": [
    "<h1 style=\"text-align: center;\">Projet_N°7_THOMPSON&TORT_MARTINEZ</h1>\n",
    "<h2 style=\"text-align: center;\">Étude d'une centrale à cycle combiné à gaz</h2>\n",
    "\n",
    "<div style=\"text-align: center;\">\n",
    "  <img src=\"centrale.jpg\" width=\"900\"/>\n",
    "  <p><em>Centrale thermique de Bouchain, EDF</em></p>\n",
    "</div>\n"
   ]
  },
  {
   "cell_type": "markdown",
   "id": "6d91cffc",
   "metadata": {},
   "source": [
    "\n",
    "<h3 style=\"text-align: center;\">Étude de la turbine à gaz</h3>\n",
    "<div style=\"text-align: center;\">\n",
    "  <img src=\"cycle.png\" width=\"600\"/>\n",
    "</div>\n",
    "\n"
   ]
  },
  {
   "cell_type": "markdown",
   "id": "b4eec563",
   "metadata": {},
   "source": [
    "### 2.1/\n",
    "On commence par exprimer la puissance absorbée par le compresseur et la puissance délivrée par la turbine.\n",
    "$$\n",
    "\\dot{W}_{\\text{tot}} = \\dot{W}_{\\text{turbine}} - \\dot{W}_{\\text{compresseur}}\n",
    "$$\n",
    "\n",
    "D'après le premier principe industriel entre 1-2 et entre 2-3:\n",
    "$$\n",
    "\\dot{W}_c = \\dot{m}_1 \\, (h_2 - h_1)\n",
    "$$\n",
    "\n",
    "$$\n",
    "\\dot{W}_t = \\dot{m}_3 \\, (h_4 - h_3)\n",
    "$$\n",
    "\n",
    "donc:\n",
    "$$\n",
    "\\dot{W}_c = \\dot{m}_1 \\, C_{p,a} \\, (T_2 - T_1)\n",
    "$$\n",
    "$$\n",
    "\\dot{W}_t = \\dot{m}_3 \\, C_{p,f} \\, (T_4 - T_3)\n",
    "$$\n",
    "\n"
   ]
  },
  {
   "cell_type": "markdown",
   "id": "6ad9f96f",
   "metadata": {},
   "source": [
    "On se place dans le cas réversible. On peut donc utiliser les lois de Laplace (Gaz parfait + adiabatique réversible)\n",
    "$$\n",
    "\\frac{T_2}{T_1} = \\left( \\frac{P_2}{P_1} \\right)^{\\frac{\\gamma - 1}{\\gamma}}\n",
    "$$\n",
    "\n",
    "donc: \n",
    "$$\n",
    "\\dot{W}_{c,is} = \\dot{m}_1 \\, C_{p,a} \\, T_1 \\cdot \\left( r_c^{k_a} - 1 \\right)\n",
    "$$\n",
    "\n",
    "$$\n",
    "\\dot{W}_{t,is} = \\dot{m}_3 \\, C_{p,f} \\, T_3 \\cdot \\left(1 - r_c^{- \\frac{1}{k_f}} \\right)\n",
    "$$\n",
    "\n",
    "Dans le cas réel, en prenant en compte le rendement isentropique:\n",
    "\n",
    "$$\n",
    "\\dot{W}_{c,is} = \\frac{\\dot{m}_1 \\, C_{p,a} \\, T_1 }{\\eta_c} \\cdot \\left( r_c^{k_a} - 1 \\right)\n",
    "$$\n",
    "\n",
    "$$\n",
    "\\dot{W}_{t,is} = \\dot{m}_3 \\, C_{p,f} \\, T_3 \\eta_t \\cdot \\left(1 - r_c^{- \\frac{1}{k_f}} \\right)\n",
    "$$\n",
    "La puisance totale vaut donc:\n",
    "\n",
    "$$\n",
    "\\dot{W}_{\\text{tot}} = \\dot{m}_3 \\, C_{p,f} \\, T_3 \\eta_t \\cdot \\left(1 - r_c^{- \\frac{1}{k_f}} \\right) - \\frac{\\dot{m}_1 \\, C_{p,a} \\, T_1 }{\\eta_c} \\cdot \\left( r_c^{k_a} - 1 \\right)\n",
    "$$"
   ]
  },
  {
   "cell_type": "markdown",
   "id": "bab84462",
   "metadata": {},
   "source": [
    "## Partie 3- Étude du cycle vapeur et de la chaudière de récupération"
   ]
  },
  {
   "cell_type": "markdown",
   "id": "90b2294e",
   "metadata": {},
   "source": [
    "#### Question 3.1:\n",
    "\n"
   ]
  },
  {
   "cell_type": "markdown",
   "id": "9f99818e",
   "metadata": {},
   "source": [
    "En supposant que les quatre échangeurs sont à contre-courant, avec le cours on peut écrire directement les équations bilans de chaque échangeur.\n",
    "\n",
    "$$ \\dot{Q} = \\dot{m}_{froid} \\cdot c_{p,froid} \\cdot (T_{froid,sortie}-T_{froid,entrée}) = \\dot{m}_{chaud} \\cdot c_{p,chaud} \\cdot (T_{chaud, entrée}- T_{chaud, sortie}) $$\n",
    "\n",
    "Pour le surchauffeur HP:\n",
    "\n",
    "$$ \\dot{Q} = \\dot{m}_{vapeur}\\cdot(h_{9} -h_{16}) = \\dot{m}_{fumées} \\cdot c_{p,f}\\cdot(T_{4}-T_{5}) $$\n",
    "\n",
    "Pour le surchauffeur BP:\n",
    "\n",
    "$$ \\dot{Q} = \\dot{m}_{vapeur}\\cdot(h_{11} -h_{10}) = \\dot{m}_{fumées} \\cdot c_{p,f}\\cdot(T_{5}-T_{6}) $$\n",
    "\n",
    "Pour l'évaporateur:\n",
    "\n",
    "$$ \\dot{Q} = \\dot{m}_{vapeur}\\cdot(h_{16} -h_{15}) = \\dot{m}_{fumées} \\cdot c_{p,f}\\cdot(T_{6}-T_{7}) $$\n",
    "\n",
    "Pour le réchauffeur:\n",
    "\n",
    "$$ \\dot{Q} = \\dot{m}_{eau}\\cdot c_{p,eau}\\cdot(T_{15} -T_{14}) = \\dot{m}_{fumées} \\cdot c_{p,f}\\cdot(T_{7}-T_{8}) $$\n",
    "\n",
    "\n",
    "Le pincement minimal est de 10ºC pour tous les échangeurs, il faut donc que pour chaque échangeur on ait:\n",
    "\n",
    "$$ T_{fumées, entrée} - T_{eau, sortie} \\ge 10ºC \\\\\n",
    "T_{fumées, sortie} - T_{eau, entrée} \\ge 10ºC $$\n",
    "\n"
   ]
  },
  {
   "cell_type": "markdown",
   "id": "c6cd5dec",
   "metadata": {},
   "source": [
    "#### Question 3.2:"
   ]
  },
  {
   "cell_type": "markdown",
   "id": "a17460bd",
   "metadata": {},
   "source": [
    "En utilisant la librairie CoolProp, et plus precisément, la fonction PropSI, on peut touver les valeurs pour compléter le tableau, le code est le suivant (On ne montre que celui pour trouver l'enthalpie au point 9 mais les autres valeurs se trouvent en modifiant les grandeurs)"
   ]
  },
  {
   "cell_type": "code",
   "execution_count": null,
   "id": "a3245dae",
   "metadata": {},
   "outputs": [],
   "source": [
    "from CoolProp.CoolProp import PropsSI\n",
    "\n",
    "P = 166e5\n",
    "T = 573 + 273.15\n",
    "\n",
    "h = PropsSI('H', 'P', P, 'T', T, 'Water')\n",
    "s = PropsSI('S', 'P', P, 'T', T, 'Water')"
   ]
  },
  {
   "cell_type": "markdown",
   "id": "878a94a6",
   "metadata": {},
   "source": []
  }
 ],
 "metadata": {
  "language_info": {
   "name": "python"
  }
 },
 "nbformat": 4,
 "nbformat_minor": 5
}
